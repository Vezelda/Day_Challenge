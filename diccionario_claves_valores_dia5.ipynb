{
 "cells": [
  {
   "cell_type": "code",
   "execution_count": 2,
   "metadata": {},
   "outputs": [
    {
     "name": "stdout",
     "output_type": "stream",
     "text": [
      "{'nombre': 'Anibal', 'edad': 30, 'ciudad': 'Capiata'}\n"
     ]
    }
   ],
   "source": [
    "#Listas de claves y valores\n",
    "claves = ['nombre', 'edad', 'ciudad']\n",
    "valores = ['Anibal', 30, 'Capiata']\n",
    "\n",
    "#Crear el diccionario utilizando la función zip\n",
    "diccionario = dict(zip(claves, valores))\n",
    "\n",
    "#Imprimir el diccionario\n",
    "print(diccionario)\n"
   ]
  }
 ],
 "metadata": {
  "kernelspec": {
   "display_name": ".venv",
   "language": "python",
   "name": "python3"
  },
  "language_info": {
   "name": "python",
   "version": "3.11.6"
  }
 },
 "nbformat": 4,
 "nbformat_minor": 2
}
