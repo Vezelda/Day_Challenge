{
 "cells": [
  {
   "cell_type": "code",
   "execution_count": 2,
   "metadata": {},
   "outputs": [
    {
     "name": "stdout",
     "output_type": "stream",
     "text": [
      "30.0 grados Celsius son 86.0 grados Fahrenheit.\n"
     ]
    }
   ],
   "source": [
    "def celsius_to_fahrenheit(celsius):\n",
    "    #Fórmula para convertir Celsius a Fahrenheit\n",
    "    fahrenheit = (celsius * 9/5) + 32\n",
    "    return fahrenheit\n",
    "\n",
    "#Pide al usuario para ingresar en celsius\n",
    "celsius = float(input(\"Ingrese la temperatura en grados Celsius: \"))\n",
    "\n",
    "#conversor\n",
    "fahrenheit = celsius_to_fahrenheit(celsius)\n",
    "\n",
    "#Print del resultado\n",
    "print(f\"{celsius} grados Celsius son {fahrenheit} grados Fahrenheit.\")\n"
   ]
  }
 ],
 "metadata": {
  "kernelspec": {
   "display_name": ".venv",
   "language": "python",
   "name": "python3"
  },
  "language_info": {
   "codemirror_mode": {
    "name": "ipython",
    "version": 3
   },
   "file_extension": ".py",
   "mimetype": "text/x-python",
   "name": "python",
   "nbconvert_exporter": "python",
   "pygments_lexer": "ipython3",
   "version": "3.11.6"
  }
 },
 "nbformat": 4,
 "nbformat_minor": 2
}
