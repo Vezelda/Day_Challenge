{
 "cells": [
  {
   "cell_type": "code",
   "execution_count": 18,
   "metadata": {},
   "outputs": [
    {
     "name": "stdout",
     "output_type": "stream",
     "text": [
      "¡Es hora de de de de de del juego... de Piedra, Papel o Tijeras!\n",
      "Leena bien, esos items podes elegir\n",
      "Yami Yugi eligio: piedra\n",
      "¡ambos tuvieron 0 puntos de vida!\n",
      "Yami Yugi eligio: papel\n",
      "¡ambos tuvieron 0 puntos de vida!\n",
      "Yami Yugi eligio: papel\n",
      "¡ambos tuvieron 0 puntos de vida!\n",
      "Yami Yugi eligio: tijeras\n",
      "¡Tu lose!\n",
      "Yami Yugi eligio: tijeras\n",
      "¡Tu lose!\n",
      "Yami Yugi eligio: papel\n",
      "¡ambos tuvieron 0 puntos de vida!\n",
      "Yami Yugi eligio: papel\n",
      "¡Your ganaste!\n",
      "¡Tankiu por play!\n"
     ]
    }
   ],
   "source": [
    "import random\n",
    "\n",
    "opciones = [\"piedra\", \"papel\", \"tijeras\"]\n",
    "\n",
    "print(\"¡Es hora de de de de de del juego... de Piedra, Papel o Tijeras!\")\n",
    "\n",
    "while True:\n",
    "    usuario = input(\"Choice tu item: piedra, papel o tijeras: \").lower()\n",
    "    if usuario not in opciones:\n",
    "        print(\"Leena bien, esos items podes elegir\")\n",
    "        continue\n",
    "    \n",
    "    computadora = random.choice(opciones)\n",
    "    print(f\"Yami Yugi eligio: {computadora}\")\n",
    "    \n",
    "    if usuario == computadora:\n",
    "        print(\"¡ambos tuvieron 0 puntos de vida!\")\n",
    "    elif (usuario == \"piedra\" and computadora == \"tijeras\") or \\\n",
    "         (usuario == \"papel\" and computadora == \"piedra\") or \\\n",
    "         (usuario == \"tijeras\" and computadora == \"papel\"):\n",
    "        print(\"¡Your ganaste!\")\n",
    "    else:\n",
    "        print(\"¡Tu lose!\")\n",
    "    \n",
    "    if input(\"¿Queres probar retar nuevamente a Yami? (sí/no): \").lower() not in [\"sí\", \"si\"]:\n",
    "        break\n",
    "\n",
    "print(\"¡Tankiu por play!\")\n"
   ]
  }
 ],
 "metadata": {
  "kernelspec": {
   "display_name": ".venv",
   "language": "python",
   "name": "python3"
  },
  "language_info": {
   "codemirror_mode": {
    "name": "ipython",
    "version": 3
   },
   "file_extension": ".py",
   "mimetype": "text/x-python",
   "name": "python",
   "nbconvert_exporter": "python",
   "pygments_lexer": "ipython3",
   "version": "3.11.6"
  }
 },
 "nbformat": 4,
 "nbformat_minor": 2
}
