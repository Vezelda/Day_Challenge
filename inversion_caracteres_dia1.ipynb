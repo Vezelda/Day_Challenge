{
 "cells": [
  {
   "cell_type": "code",
   "execution_count": null,
   "metadata": {},
   "outputs": [],
   "source": [
    "#Funcion para invertir caracteres\n",
    "def invertir_caracteres(cadena_de_caracteres):\n",
    "    # Si el usuario no ingresa nada, retorna con valor 0\n",
    "    if len(cadena_de_caracteres) == 0:\n",
    "        return \"\"\n",
    "    else:\n",
    "        # Tomamos el ultimo caracter y llamar recursivamente con el resto de la cadena\n",
    "        return cadena_de_caracteres[-1] + invertir_caracteres(cadena_de_caracteres[:-1])\n",
    "\n",
    "#Pregunta\n",
    "cadena = input(\"Ingrese una cadena de caracteres: \")\n",
    "\n",
    "# Llamamos a la funcion para invertir\n",
    "resultado = invertir_caracteres(cadena)\n",
    "\n",
    "# Respuesta\n",
    "print(\"Cadena invertida:\", resultado)"
   ]
  }
 ],
 "metadata": {
  "language_info": {
   "name": "python"
  }
 },
 "nbformat": 4,
 "nbformat_minor": 2
}
