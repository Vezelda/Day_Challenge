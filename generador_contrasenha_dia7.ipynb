{
 "cells": [
  {
   "cell_type": "code",
   "execution_count": 7,
   "metadata": {},
   "outputs": [
    {
     "name": "stdout",
     "output_type": "stream",
     "text": [
      "Aca tenes tu contrasenha Rey..: Tx)s%1jD89O\\\n"
     ]
    }
   ],
   "source": [
    "import random\n",
    "import string\n",
    "\n",
    "longitud = int(input(\"Cuantos caracteres queres rey? 8 a 16 tenes, cual?: \"))\n",
    "if 8 <= longitud <= 16:\n",
    "    print(\"Aca tenes tu contrasenha Rey..:\", ''.join(random.choices(string.ascii_letters + string.digits + string.punctuation, k=longitud)))\n",
    "else:\n",
    "    print(\"No Rey... entre 8 a 16 no mas podes...\")\n"
   ]
  }
 ],
 "metadata": {
  "kernelspec": {
   "display_name": ".venv",
   "language": "python",
   "name": "python3"
  },
  "language_info": {
   "codemirror_mode": {
    "name": "ipython",
    "version": 3
   },
   "file_extension": ".py",
   "mimetype": "text/x-python",
   "name": "python",
   "nbconvert_exporter": "python",
   "pygments_lexer": "ipython3",
   "version": "3.11.6"
  }
 },
 "nbformat": 4,
 "nbformat_minor": 2
}
