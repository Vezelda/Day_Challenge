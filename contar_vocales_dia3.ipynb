{
 "cells": [
  {
   "cell_type": "code",
   "execution_count": 3,
   "metadata": {},
   "outputs": [
    {
     "name": "stdout",
     "output_type": "stream",
     "text": [
      "El número de vocales en la cadena es: 7\n"
     ]
    }
   ],
   "source": [
    "def contar_vocales(chaisawman):\n",
    "    vocales = 'aeiouAEIOU'\n",
    "    contador = 0\n",
    "    for letra in chaisawman:\n",
    "        if letra in vocales:\n",
    "            contador += 1\n",
    "    return contador\n",
    "\n",
    "#agregamos la entrada\n",
    "cadena = \"Yo soy el CHAISAWMAN!\"\n",
    "print(f\"El número de vocales en la cadena es: {contar_vocales(cadena)}\")\n",
    "\n"
   ]
  }
 ],
 "metadata": {
  "kernelspec": {
   "display_name": ".venv",
   "language": "python",
   "name": "python3"
  },
  "language_info": {
   "codemirror_mode": {
    "name": "ipython",
    "version": 3
   },
   "file_extension": ".py",
   "mimetype": "text/x-python",
   "name": "python",
   "nbconvert_exporter": "python",
   "pygments_lexer": "ipython3",
   "version": "3.11.6"
  }
 },
 "nbformat": 4,
 "nbformat_minor": 2
}
