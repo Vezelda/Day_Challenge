{
 "cells": [
  {
   "cell_type": "code",
   "execution_count": 4,
   "metadata": {},
   "outputs": [
    {
     "name": "stdout",
     "output_type": "stream",
     "text": [
      "Lista ordenada en orden ascendente:\n",
      "[1, 2, 5, 7, 8, 8, 9]\n"
     ]
    }
   ],
   "source": [
    "# Solicitar al usuario que ingrese una lista de números separados por comas\n",
    "entrada = input(\"Ingrese una lista de números separados por comas: \")\n",
    "\n",
    "# Convertir la cadena de entrada en una lista de números\n",
    "lista_numeros = [int(num) for num in entrada.split(\",\")]\n",
    "\n",
    "# Ordenar la lista en orden ascendente\n",
    "lista_numeros.sort()\n",
    "\n",
    "# Imprimir la lista ordenada\n",
    "print(\"Lista ordenada en orden ascendente:\")\n",
    "print(lista_numeros)\n"
   ]
  }
 ],
 "metadata": {
  "kernelspec": {
   "display_name": ".venv",
   "language": "python",
   "name": "python3"
  },
  "language_info": {
   "codemirror_mode": {
    "name": "ipython",
    "version": 3
   },
   "file_extension": ".py",
   "mimetype": "text/x-python",
   "name": "python",
   "nbconvert_exporter": "python",
   "pygments_lexer": "ipython3",
   "version": "3.11.6"
  }
 },
 "nbformat": 4,
 "nbformat_minor": 2
}
